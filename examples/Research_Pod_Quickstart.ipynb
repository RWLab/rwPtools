{
  "nbformat": 4,
  "nbformat_minor": 0,
  "metadata": {
    "colab": {
      "name": "Research_Pod_Quickstart.ipynb",
      "provenance": [],
      "authorship_tag": "ABX9TyN4FwwJC6R/nENuvrQcbLWj",
      "include_colab_link": true
    },
    "kernelspec": {
      "name": "python3",
      "display_name": "Python 3"
    }
  },
  "cells": [
    {
      "cell_type": "markdown",
      "metadata": {
        "id": "view-in-github",
        "colab_type": "text"
      },
      "source": [
        "<a href=\"https://colab.research.google.com/github/RWLab/rwPtools/blob/master/examples/Research_Pod_Quickstart.ipynb\" target=\"_parent\"><img src=\"https://colab.research.google.com/assets/colab-badge.svg\" alt=\"Open In Colab\"/></a>"
      ]
    },
    {
      "cell_type": "markdown",
      "metadata": {
        "id": "qy0A5L8YY4uE"
      },
      "source": [
        "##Install rwPtools"
      ]
    },
    {
      "cell_type": "code",
      "metadata": {
        "id": "m2JMO8c5WOo3",
        "outputId": "e65b2139-6a1e-4c01-ff7e-c78a04de8161",
        "colab": {
          "base_uri": "https://localhost:8080/"
        }
      },
      "source": [
        "pip install git+https://github.com/RWLab/rwPtools\n"
      ],
      "execution_count": 1,
      "outputs": [
        {
          "output_type": "stream",
          "text": [
            "Collecting git+https://github.com/RWLab/rwPtools\n",
            "  Cloning https://github.com/RWLab/rwPtools to /tmp/pip-req-build-bljur0sq\n",
            "  Running command git clone -q https://github.com/RWLab/rwPtools /tmp/pip-req-build-bljur0sq\n",
            "Building wheels for collected packages: rwptools\n",
            "  Building wheel for rwptools (setup.py) ... \u001b[?25l\u001b[?25hdone\n",
            "  Created wheel for rwptools: filename=rwptools-0.1-cp36-none-any.whl size=3435 sha256=d1392aa32a6bd0b74e803fb8040113a6212605de52a0f2d3544c73df1234ecf2\n",
            "  Stored in directory: /tmp/pip-ephem-wheel-cache-zscvky0o/wheels/75/8b/0c/c37320659556fbc00243c244a68accb593872cad69ccd5f019\n",
            "Successfully built rwptools\n",
            "Installing collected packages: rwptools\n",
            "Successfully installed rwptools-0.1\n"
          ],
          "name": "stdout"
        }
      ]
    },
    {
      "cell_type": "markdown",
      "metadata": {
        "id": "kYjuh8jnY732"
      },
      "source": [
        "##1. Authorise data library"
      ]
    },
    {
      "cell_type": "code",
      "metadata": {
        "id": "0_HdYnjMWV37",
        "outputId": "4efae662-c616-4cf7-83fe-31c2712bb1bc",
        "colab": {
          "base_uri": "https://localhost:8080/"
        }
      },
      "source": [
        "from rwptools.auth import authenticate\n",
        "authenticate()"
      ],
      "execution_count": 2,
      "outputs": [
        {
          "output_type": "stream",
          "text": [
            "Go to the following link in your browser:\n",
            "\n",
            "    https://accounts.google.com/o/oauth2/auth?client_id=32555940559.apps.googleusercontent.com&redirect_uri=urn%3Aietf%3Awg%3Aoauth%3A2.0%3Aoob&scope=openid+https%3A%2F%2Fwww.googleapis.com%2Fauth%2Fuserinfo.email+https%3A%2F%2Fwww.googleapis.com%2Fauth%2Fcloud-platform+https%3A%2F%2Fwww.googleapis.com%2Fauth%2Fappengine.admin+https%3A%2F%2Fwww.googleapis.com%2Fauth%2Fcompute+https%3A%2F%2Fwww.googleapis.com%2Fauth%2Faccounts.reauth+https%3A%2F%2Fwww.googleapis.com%2Fauth%2Fdrive&code_challenge=Evs16Xmi5S1w381-Iqni2kUcsyOEBoFNzHKHbdX9wxc&code_challenge_method=S256&access_type=offline&response_type=code&prompt=select_account\n",
            "\n",
            "\n",
            "Enter verification code: 4/5wEOCmoAs8LQxLwt7-iymeyWFtaQFKbmerbLXG0eOdaCHXkHOUtlWs4\n"
          ],
          "name": "stdout"
        }
      ]
    },
    {
      "cell_type": "markdown",
      "metadata": {
        "id": "v64lbUyzZBmp"
      },
      "source": [
        "##2. List the Lab's Research Pods"
      ]
    },
    {
      "cell_type": "code",
      "metadata": {
        "id": "0VVFp0t-WapK",
        "outputId": "0fd881c2-f0d8-4175-cca4-2b1789ebec4c",
        "colab": {
          "base_uri": "https://localhost:8080/"
        }
      },
      "source": [
        "from rwptools.rwlab_gcs import list_pods\n",
        "list_pods()"
      ],
      "execution_count": 3,
      "outputs": [
        {
          "output_type": "execute_result",
          "data": {
            "text/plain": [
              "['EquityFactors']"
            ]
          },
          "metadata": {
            "tags": []
          },
          "execution_count": 3
        }
      ]
    },
    {
      "cell_type": "markdown",
      "metadata": {
        "id": "GJXrByHiZHPt"
      },
      "source": [
        "##3. Load essential Pod data\n",
        "\n",
        "This transfers price data from the data library to path and returns a pandas dataframe\n",
        "\n",
        "**IMPORTANT: It overwrites any object you might have in your Global Environment with that variable name, or locally at path with the Research Pod prices file name.**\n",
        "\n",
        "Requires that you have authorised to the data library prior.\n",
        "\n",
        "\n"
      ]
    },
    {
      "cell_type": "code",
      "metadata": {
        "id": "9hSeGshYWfyx",
        "outputId": "b6d63c97-0aa5-472a-8231-c32dfde3e217",
        "colab": {
          "base_uri": "https://localhost:8080/",
          "height": 221
        }
      },
      "source": [
        "from rwptools.rwlab_gcs import get_prices_data_frame\n",
        "\n",
        "prices = get_prices_data_frame('EquityFactors')\n",
        "prices.head()"
      ],
      "execution_count": 4,
      "outputs": [
        {
          "output_type": "stream",
          "text": [
            "Successfully downloaded R1000_ohlc_1d.feather\n"
          ],
          "name": "stdout"
        },
        {
          "output_type": "execute_result",
          "data": {
            "text/html": [
              "<div>\n",
              "<style scoped>\n",
              "    .dataframe tbody tr th:only-of-type {\n",
              "        vertical-align: middle;\n",
              "    }\n",
              "\n",
              "    .dataframe tbody tr th {\n",
              "        vertical-align: top;\n",
              "    }\n",
              "\n",
              "    .dataframe thead th {\n",
              "        text-align: right;\n",
              "    }\n",
              "</style>\n",
              "<table border=\"1\" class=\"dataframe\">\n",
              "  <thead>\n",
              "    <tr style=\"text-align: right;\">\n",
              "      <th></th>\n",
              "      <th>ticker</th>\n",
              "      <th>date</th>\n",
              "      <th>open</th>\n",
              "      <th>high</th>\n",
              "      <th>low</th>\n",
              "      <th>close</th>\n",
              "      <th>unadjusted_close</th>\n",
              "      <th>volume</th>\n",
              "      <th>is_universe</th>\n",
              "    </tr>\n",
              "  </thead>\n",
              "  <tbody>\n",
              "    <tr>\n",
              "      <th>0</th>\n",
              "      <td>A</td>\n",
              "      <td>1999-11-19</td>\n",
              "      <td>27.437398</td>\n",
              "      <td>27.476512</td>\n",
              "      <td>25.438912</td>\n",
              "      <td>25.916932</td>\n",
              "      <td>40.7500</td>\n",
              "      <td>17595450.0</td>\n",
              "      <td>0</td>\n",
              "    </tr>\n",
              "    <tr>\n",
              "      <th>1</th>\n",
              "      <td>A</td>\n",
              "      <td>1999-11-22</td>\n",
              "      <td>26.397395</td>\n",
              "      <td>27.999381</td>\n",
              "      <td>25.598659</td>\n",
              "      <td>27.999381</td>\n",
              "      <td>43.6250</td>\n",
              "      <td>7597422.5</td>\n",
              "      <td>0</td>\n",
              "    </tr>\n",
              "    <tr>\n",
              "      <th>2</th>\n",
              "      <td>A</td>\n",
              "      <td>1999-11-23</td>\n",
              "      <td>27.157017</td>\n",
              "      <td>27.877526</td>\n",
              "      <td>25.719293</td>\n",
              "      <td>25.719293</td>\n",
              "      <td>40.2500</td>\n",
              "      <td>6901800.5</td>\n",
              "      <td>0</td>\n",
              "    </tr>\n",
              "    <tr>\n",
              "      <th>3</th>\n",
              "      <td>A</td>\n",
              "      <td>1999-11-24</td>\n",
              "      <td>25.641066</td>\n",
              "      <td>26.798410</td>\n",
              "      <td>25.559546</td>\n",
              "      <td>26.237647</td>\n",
              "      <td>41.0625</td>\n",
              "      <td>5594038.5</td>\n",
              "      <td>0</td>\n",
              "    </tr>\n",
              "    <tr>\n",
              "      <th>4</th>\n",
              "      <td>A</td>\n",
              "      <td>1999-11-26</td>\n",
              "      <td>26.120308</td>\n",
              "      <td>26.518029</td>\n",
              "      <td>26.038787</td>\n",
              "      <td>26.319168</td>\n",
              "      <td>41.1875</td>\n",
              "      <td>1997571.0</td>\n",
              "      <td>0</td>\n",
              "    </tr>\n",
              "  </tbody>\n",
              "</table>\n",
              "</div>"
            ],
            "text/plain": [
              "  ticker       date       open  ...  unadjusted_close      volume  is_universe\n",
              "0      A 1999-11-19  27.437398  ...           40.7500  17595450.0            0\n",
              "1      A 1999-11-22  26.397395  ...           43.6250   7597422.5            0\n",
              "2      A 1999-11-23  27.157017  ...           40.2500   6901800.5            0\n",
              "3      A 1999-11-24  25.641066  ...           41.0625   5594038.5            0\n",
              "4      A 1999-11-26  26.120308  ...           41.1875   1997571.0            0\n",
              "\n",
              "[5 rows x 9 columns]"
            ]
          },
          "metadata": {
            "tags": []
          },
          "execution_count": 4
        }
      ]
    },
    {
      "cell_type": "markdown",
      "metadata": {
        "id": "E_5SKazcZevV"
      },
      "source": [
        "##4. See all data objects associated with a Pod"
      ]
    },
    {
      "cell_type": "code",
      "metadata": {
        "id": "8yP_GAXSWhd9",
        "outputId": "fe9004c6-a379-4dc6-83c2-c998700a4c25",
        "colab": {
          "base_uri": "https://localhost:8080/"
        }
      },
      "source": [
        "from rwptools.rwlab_gcs import get_pod_meta\n",
        "get_pod_meta(pod = \"EquityFactors\")\n",
        "{'bucket': 'equity_factors_research_pod',\n",
        " 'datasets': ['R1000_fundamentals_1d.feather',\n",
        "  'R1000_metadata.feather',\n",
        "  'R1000_ohlc_1d.feather'],\n",
        " 'essentials': 'R1000_ohlc_1d.feather',\n",
        " 'prices': 'R1000_ohlc_1d.feather'}"
      ],
      "execution_count": 5,
      "outputs": [
        {
          "output_type": "execute_result",
          "data": {
            "text/plain": [
              "{'bucket': 'equity_factors_research_pod',\n",
              " 'datasets': ['R1000_fundamentals_1d.feather',\n",
              "  'R1000_metadata.feather',\n",
              "  'R1000_ohlc_1d.feather'],\n",
              " 'essentials': 'R1000_ohlc_1d.feather',\n",
              " 'prices': 'R1000_ohlc_1d.feather'}"
            ]
          },
          "metadata": {
            "tags": []
          },
          "execution_count": 5
        }
      ]
    },
    {
      "cell_type": "markdown",
      "metadata": {
        "id": "36S_dU4XZn-V"
      },
      "source": [
        "##5. Load specific additional Pod data objects\n",
        "\n",
        "This transfers a specifc object to path, overwriting any existing local instance of that object.\n",
        "\n",
        "Requires that you've already authorised to the relevant GCS bucket.\n",
        "\n"
      ]
    },
    {
      "cell_type": "code",
      "metadata": {
        "id": "sJsbfgxiWlUA",
        "outputId": "5d87d320-15a8-4689-8034-271a1f178f3c",
        "colab": {
          "base_uri": "https://localhost:8080/"
        }
      },
      "source": [
        "from rwptools.rwlab_gcs import transfer_lab_object\n",
        "transfer_lab_object(pod = \"EquityFactors\", gcs_object = \"R1000_fundamentals_1d.feather\", path = \".\")\n",
        "\n",
        "!ls | grep fundamentals"
      ],
      "execution_count": 6,
      "outputs": [
        {
          "output_type": "stream",
          "text": [
            "Successfully downloaded R1000_fundamentals_1d.feather\n",
            "R1000_fundamentals_1d.feather\n"
          ],
          "name": "stdout"
        }
      ]
    },
    {
      "cell_type": "code",
      "metadata": {
        "id": "0sG97M4JZ8Is"
      },
      "source": [
        ""
      ],
      "execution_count": null,
      "outputs": []
    }
  ]
}
